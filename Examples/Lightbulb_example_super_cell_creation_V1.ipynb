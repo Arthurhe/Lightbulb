{
 "cells": [
  {
   "cell_type": "code",
   "execution_count": 1,
   "metadata": {
    "collapsed": false
   },
   "outputs": [
    {
     "name": "stderr",
     "output_type": "stream",
     "text": [
      "Loading required package: Lightbulb\n",
      "Loading required package: data.table\n",
      "Loading required package: matrixStats\n",
      "Loading required package: Matrix\n",
      "Loading required package: gplots\n",
      "\n",
      "Attaching package: ‘gplots’\n",
      "\n",
      "The following object is masked from ‘package:stats’:\n",
      "\n",
      "    lowess\n",
      "\n",
      "Loading required package: ggplot2\n",
      "Loading required package: Seurat\n",
      "Loading required package: cowplot\n",
      "\n",
      "Attaching package: ‘cowplot’\n",
      "\n",
      "The following object is masked from ‘package:ggplot2’:\n",
      "\n",
      "    ggsave\n",
      "\n",
      "\n",
      "Attaching package: ‘Lightbulb’\n",
      "\n",
      "The following objects are masked from ‘package:matrixStats’:\n",
      "\n",
      "    colMaxs, colMins, colSds, rowMaxs, rowMins, rowSds\n",
      "\n"
     ]
    }
   ],
   "source": [
    "require(Lightbulb)"
   ]
  },
  {
   "cell_type": "markdown",
   "metadata": {},
   "source": [
    "## loading data"
   ]
  },
  {
   "cell_type": "code",
   "execution_count": 2,
   "metadata": {
    "collapsed": true
   },
   "outputs": [],
   "source": [
    "Exp_Seurat=readRDS(\"Lightbulb_example_ExpSeurat.rds\")"
   ]
  },
  {
   "cell_type": "markdown",
   "metadata": {},
   "source": [
    "### Super cell creation"
   ]
  },
  {
   "cell_type": "markdown",
   "metadata": {},
   "source": [
    "Exp_Seurat is a Seurat object. Seurat object stores the log2(TPM) matrix in @data slot. Our super cell function can take a seurat object as input or a cell-gene matrix as input. For details about generating your own Seurat object, please refer to Seurat manual (https://satijalab.org/seurat/get_started.html)"
   ]
  },
  {
   "cell_type": "code",
   "execution_count": 3,
   "metadata": {
    "collapsed": false
   },
   "outputs": [
    {
     "data": {
      "text/plain": [
       "5 x 5 sparse Matrix of class \"dgCMatrix\"\n",
       "        CAGTCCTTCCAAGTAC-1 TAAGTGCTCTCTGAGA-1 CGCTTCATCTTACCTA-1\n",
       "Mrpl15            .                  8.470585                  .\n",
       "Lypla1            .                  8.470585                  .\n",
       "Tcea1             8.633139           8.470585                  .\n",
       "Atp6v1h           .                  .                         .\n",
       "Rb1cc1            .                  8.470585                  .\n",
       "        TCTTCGGAGTTTAGGA-1 AATCCAGCATAGACTC-1\n",
       "Mrpl15                   .                  .\n",
       "Lypla1                   .                  .\n",
       "Tcea1                    .                  .\n",
       "Atp6v1h                  .                  .\n",
       "Rb1cc1                   .                  ."
      ]
     },
     "metadata": {},
     "output_type": "display_data"
    }
   ],
   "source": [
    "Exp_Seurat@data[1:5,1:5]"
   ]
  },
  {
   "cell_type": "code",
   "execution_count": 4,
   "metadata": {
    "collapsed": false
   },
   "outputs": [
    {
     "data": {
      "text/html": [
       "<table>\n",
       "<thead><tr><th></th><th scope=col>nGene</th><th scope=col>nUMI</th><th scope=col>orig.ident</th><th scope=col>batch</th><th scope=col>res.1</th><th scope=col>tissue</th><th scope=col>timepoint</th><th scope=col>test</th><th scope=col>res.3</th></tr></thead>\n",
       "<tbody>\n",
       "\t<tr><th scope=row>CAGTCCTTCCAAGTAC-1</th><td>945          </td><td>2525         </td><td>SeuratProject</td><td>1            </td><td>8            </td><td>Spleen       </td><td>d0           </td><td>0            </td><td>0            </td></tr>\n",
       "\t<tr><th scope=row>TAAGTGCTCTCTGAGA-1</th><td>891          </td><td>2827         </td><td>SeuratProject</td><td>1            </td><td>8            </td><td>Spleen       </td><td>d0           </td><td>0            </td><td>0            </td></tr>\n",
       "\t<tr><th scope=row>CGCTTCATCTTACCTA-1</th><td>981          </td><td>3012         </td><td>SeuratProject</td><td>1            </td><td>8            </td><td>Spleen       </td><td>d0           </td><td>0            </td><td>0            </td></tr>\n",
       "\t<tr><th scope=row>TCTTCGGAGTTTAGGA-1</th><td>744          </td><td>2212         </td><td>SeuratProject</td><td>1            </td><td>8            </td><td>Spleen       </td><td>d0           </td><td>0            </td><td>0            </td></tr>\n",
       "\t<tr><th scope=row>AATCCAGCATAGACTC-1</th><td>890          </td><td>2455         </td><td>SeuratProject</td><td>1            </td><td>8            </td><td>Spleen       </td><td>d0           </td><td>0            </td><td>0            </td></tr>\n",
       "\t<tr><th scope=row>CTTAGGAGTGTTAAGA-1</th><td>680          </td><td>1628         </td><td>SeuratProject</td><td>1            </td><td>8            </td><td>Spleen       </td><td>d0           </td><td>0            </td><td>0            </td></tr>\n",
       "\t<tr><th scope=row>TGACTAGTCCTTTCGG-1</th><td>996          </td><td>3462         </td><td>SeuratProject</td><td>1            </td><td>8            </td><td>Spleen       </td><td>d0           </td><td>0            </td><td>0            </td></tr>\n",
       "\t<tr><th scope=row>GACACGCGTACCGTAT-1</th><td>717          </td><td>2552         </td><td>SeuratProject</td><td>1            </td><td>8            </td><td>Spleen       </td><td>d0           </td><td>0            </td><td>0            </td></tr>\n",
       "\t<tr><th scope=row>CTAATGGCACTGTGTA-1</th><td>716          </td><td>1631         </td><td>SeuratProject</td><td>1            </td><td>8            </td><td>Spleen       </td><td>d0           </td><td>0            </td><td>0            </td></tr>\n",
       "\t<tr><th scope=row>TTAGGCATCCTGCCAT-1</th><td>856          </td><td>2483         </td><td>SeuratProject</td><td>1            </td><td>8            </td><td>Spleen       </td><td>d0           </td><td>0            </td><td>0            </td></tr>\n",
       "</tbody>\n",
       "</table>\n"
      ],
      "text/latex": [
       "\\begin{tabular}{r|lllllllll}\n",
       "  & nGene & nUMI & orig.ident & batch & res.1 & tissue & timepoint & test & res.3\\\\\n",
       "\\hline\n",
       "\tCAGTCCTTCCAAGTAC-1 & 945           & 2525          & SeuratProject & 1             & 8             & Spleen        & d0            & 0             & 0            \\\\\n",
       "\tTAAGTGCTCTCTGAGA-1 & 891           & 2827          & SeuratProject & 1             & 8             & Spleen        & d0            & 0             & 0            \\\\\n",
       "\tCGCTTCATCTTACCTA-1 & 981           & 3012          & SeuratProject & 1             & 8             & Spleen        & d0            & 0             & 0            \\\\\n",
       "\tTCTTCGGAGTTTAGGA-1 & 744           & 2212          & SeuratProject & 1             & 8             & Spleen        & d0            & 0             & 0            \\\\\n",
       "\tAATCCAGCATAGACTC-1 & 890           & 2455          & SeuratProject & 1             & 8             & Spleen        & d0            & 0             & 0            \\\\\n",
       "\tCTTAGGAGTGTTAAGA-1 & 680           & 1628          & SeuratProject & 1             & 8             & Spleen        & d0            & 0             & 0            \\\\\n",
       "\tTGACTAGTCCTTTCGG-1 & 996           & 3462          & SeuratProject & 1             & 8             & Spleen        & d0            & 0             & 0            \\\\\n",
       "\tGACACGCGTACCGTAT-1 & 717           & 2552          & SeuratProject & 1             & 8             & Spleen        & d0            & 0             & 0            \\\\\n",
       "\tCTAATGGCACTGTGTA-1 & 716           & 1631          & SeuratProject & 1             & 8             & Spleen        & d0            & 0             & 0            \\\\\n",
       "\tTTAGGCATCCTGCCAT-1 & 856           & 2483          & SeuratProject & 1             & 8             & Spleen        & d0            & 0             & 0            \\\\\n",
       "\\end{tabular}\n"
      ],
      "text/markdown": [
       "\n",
       "| <!--/--> | nGene | nUMI | orig.ident | batch | res.1 | tissue | timepoint | test | res.3 | \n",
       "|---|---|---|---|---|---|---|---|---|---|\n",
       "| CAGTCCTTCCAAGTAC-1 | 945           | 2525          | SeuratProject | 1             | 8             | Spleen        | d0            | 0             | 0             | \n",
       "| TAAGTGCTCTCTGAGA-1 | 891           | 2827          | SeuratProject | 1             | 8             | Spleen        | d0            | 0             | 0             | \n",
       "| CGCTTCATCTTACCTA-1 | 981           | 3012          | SeuratProject | 1             | 8             | Spleen        | d0            | 0             | 0             | \n",
       "| TCTTCGGAGTTTAGGA-1 | 744           | 2212          | SeuratProject | 1             | 8             | Spleen        | d0            | 0             | 0             | \n",
       "| AATCCAGCATAGACTC-1 | 890           | 2455          | SeuratProject | 1             | 8             | Spleen        | d0            | 0             | 0             | \n",
       "| CTTAGGAGTGTTAAGA-1 | 680           | 1628          | SeuratProject | 1             | 8             | Spleen        | d0            | 0             | 0             | \n",
       "| TGACTAGTCCTTTCGG-1 | 996           | 3462          | SeuratProject | 1             | 8             | Spleen        | d0            | 0             | 0             | \n",
       "| GACACGCGTACCGTAT-1 | 717           | 2552          | SeuratProject | 1             | 8             | Spleen        | d0            | 0             | 0             | \n",
       "| CTAATGGCACTGTGTA-1 | 716           | 1631          | SeuratProject | 1             | 8             | Spleen        | d0            | 0             | 0             | \n",
       "| TTAGGCATCCTGCCAT-1 | 856           | 2483          | SeuratProject | 1             | 8             | Spleen        | d0            | 0             | 0             | \n",
       "\n",
       "\n"
      ],
      "text/plain": [
       "                   nGene nUMI orig.ident    batch res.1 tissue timepoint test\n",
       "CAGTCCTTCCAAGTAC-1 945   2525 SeuratProject 1     8     Spleen d0        0   \n",
       "TAAGTGCTCTCTGAGA-1 891   2827 SeuratProject 1     8     Spleen d0        0   \n",
       "CGCTTCATCTTACCTA-1 981   3012 SeuratProject 1     8     Spleen d0        0   \n",
       "TCTTCGGAGTTTAGGA-1 744   2212 SeuratProject 1     8     Spleen d0        0   \n",
       "AATCCAGCATAGACTC-1 890   2455 SeuratProject 1     8     Spleen d0        0   \n",
       "CTTAGGAGTGTTAAGA-1 680   1628 SeuratProject 1     8     Spleen d0        0   \n",
       "TGACTAGTCCTTTCGG-1 996   3462 SeuratProject 1     8     Spleen d0        0   \n",
       "GACACGCGTACCGTAT-1 717   2552 SeuratProject 1     8     Spleen d0        0   \n",
       "CTAATGGCACTGTGTA-1 716   1631 SeuratProject 1     8     Spleen d0        0   \n",
       "TTAGGCATCCTGCCAT-1 856   2483 SeuratProject 1     8     Spleen d0        0   \n",
       "                   res.3\n",
       "CAGTCCTTCCAAGTAC-1 0    \n",
       "TAAGTGCTCTCTGAGA-1 0    \n",
       "CGCTTCATCTTACCTA-1 0    \n",
       "TCTTCGGAGTTTAGGA-1 0    \n",
       "AATCCAGCATAGACTC-1 0    \n",
       "CTTAGGAGTGTTAAGA-1 0    \n",
       "TGACTAGTCCTTTCGG-1 0    \n",
       "GACACGCGTACCGTAT-1 0    \n",
       "CTAATGGCACTGTGTA-1 0    \n",
       "TTAGGCATCCTGCCAT-1 0    "
      ]
     },
     "metadata": {},
     "output_type": "display_data"
    }
   ],
   "source": [
    "Exp_Seurat@meta.data[1:10,]"
   ]
  },
  {
   "cell_type": "markdown",
   "metadata": {},
   "source": [
    "#### using seurat object as input\n",
    "When taking Seurat object as input, the calculation is based on @scale.data slot. We need to make sure that @scale.data is addible. In this example, we simply put the TPM matrix in the @scale.data slot.\n",
    "\n",
    "*k_merge* an integer indicates the number of cells we want to merge to create a super-cell.  \n",
    "*n* an integer of the number of super-cell we want to get.  \n",
    "*sampling_ref* a vector of group_id for each cell. The sampling process will try to make sure the group_id distribution remains the same after sampling.  "
   ]
  },
  {
   "cell_type": "code",
   "execution_count": 5,
   "metadata": {
    "collapsed": false
   },
   "outputs": [
    {
     "name": "stderr",
     "output_type": "stream",
     "text": [
      "Seurat object detected as input\n",
      "MNN done: time consumed: 0 hr 1 min 51.37 s\n",
      "merging finished: time consumed: 0 hr 4 min 54.86 s\n"
     ]
    }
   ],
   "source": [
    "Exp_Seurat@scale.data=2^Exp_Seurat@data-1\n",
    "\n",
    "#calculate super cell\n",
    "supercell_mat=Super_cell_creation(Exp_Seurat,k_merge = 50,n=6000,sampling_ref = Exp_Seurat@meta.data$batch)\n",
    "supercell_mat=log2(supercell_mat+1)"
   ]
  },
  {
   "cell_type": "markdown",
   "metadata": {},
   "source": [
    "#### using cell gene matrix  as input\n",
    "The cell gene matrix is a matrix which each row represents a cell and each column is a gene. We need to make sure the value of cell-gene matrix is addible. In this example, we simply use the TPM matrix."
   ]
  },
  {
   "cell_type": "code",
   "execution_count": 18,
   "metadata": {
    "collapsed": false
   },
   "outputs": [
    {
     "name": "stderr",
     "output_type": "stream",
     "text": [
      "Assuming input is cell-gene matrix\n",
      "MNN done: time consumed: 0 hr 1 min 34.67 s\n",
      "merging finished: time consumed: 0 hr 5 min 26.77 s\n"
     ]
    }
   ],
   "source": [
    "TPM_matrix=as.matrix(t(2^Exp_Seurat@data-1))\n",
    "\n",
    "#calculate super cell\n",
    "supercell_mat=Super_cell_creation(TPM_matrix,k_merge = 50,n=6000,sampling_ref = Exp_Seurat@meta.data$batch)\n",
    "supercell_mat=log2(supercell_mat+1)"
   ]
  },
  {
   "cell_type": "markdown",
   "metadata": {},
   "source": [
    "The row name of the super-cell matrix indicate the position of the cell center in the original data. For example in the following super-cell matrix, the first super-cell is centered on cell 193 in orginal data (row 193 in TPM_matrix or column 193 in Exp_Seurat@scale.data)."
   ]
  },
  {
   "cell_type": "code",
   "execution_count": 8,
   "metadata": {
    "collapsed": false
   },
   "outputs": [
    {
     "data": {
      "text/html": [
       "<table>\n",
       "<thead><tr><th></th><th scope=col>Mrpl15</th><th scope=col>Lypla1</th><th scope=col>Tcea1</th><th scope=col>Atp6v1h</th><th scope=col>Rb1cc1</th></tr></thead>\n",
       "<tbody>\n",
       "\t<tr><th scope=row>193</th><td>5.458230</td><td>5.265078</td><td>5.926450</td><td>4.828982</td><td>5.057072</td></tr>\n",
       "\t<tr><th scope=row>276</th><td>5.754755</td><td>5.342182</td><td>4.219048</td><td>5.058700</td><td>4.709162</td></tr>\n",
       "\t<tr><th scope=row>1234</th><td>6.467162</td><td>5.142626</td><td>5.424017</td><td>5.212062</td><td>4.988101</td></tr>\n",
       "\t<tr><th scope=row>651</th><td>6.353871</td><td>4.017780</td><td>5.602713</td><td>4.489083</td><td>3.023346</td></tr>\n",
       "\t<tr><th scope=row>495</th><td>5.606721</td><td>5.507785</td><td>5.874736</td><td>4.482352</td><td>3.114476</td></tr>\n",
       "</tbody>\n",
       "</table>\n"
      ],
      "text/latex": [
       "\\begin{tabular}{r|lllll}\n",
       "  & Mrpl15 & Lypla1 & Tcea1 & Atp6v1h & Rb1cc1\\\\\n",
       "\\hline\n",
       "\t193 & 5.458230 & 5.265078 & 5.926450 & 4.828982 & 5.057072\\\\\n",
       "\t276 & 5.754755 & 5.342182 & 4.219048 & 5.058700 & 4.709162\\\\\n",
       "\t1234 & 6.467162 & 5.142626 & 5.424017 & 5.212062 & 4.988101\\\\\n",
       "\t651 & 6.353871 & 4.017780 & 5.602713 & 4.489083 & 3.023346\\\\\n",
       "\t495 & 5.606721 & 5.507785 & 5.874736 & 4.482352 & 3.114476\\\\\n",
       "\\end{tabular}\n"
      ],
      "text/markdown": [
       "\n",
       "| <!--/--> | Mrpl15 | Lypla1 | Tcea1 | Atp6v1h | Rb1cc1 | \n",
       "|---|---|---|---|---|\n",
       "| 193 | 5.458230 | 5.265078 | 5.926450 | 4.828982 | 5.057072 | \n",
       "| 276 | 5.754755 | 5.342182 | 4.219048 | 5.058700 | 4.709162 | \n",
       "| 1234 | 6.467162 | 5.142626 | 5.424017 | 5.212062 | 4.988101 | \n",
       "| 651 | 6.353871 | 4.017780 | 5.602713 | 4.489083 | 3.023346 | \n",
       "| 495 | 5.606721 | 5.507785 | 5.874736 | 4.482352 | 3.114476 | \n",
       "\n",
       "\n"
      ],
      "text/plain": [
       "     Mrpl15   Lypla1   Tcea1    Atp6v1h  Rb1cc1  \n",
       "193  5.458230 5.265078 5.926450 4.828982 5.057072\n",
       "276  5.754755 5.342182 4.219048 5.058700 4.709162\n",
       "1234 6.467162 5.142626 5.424017 5.212062 4.988101\n",
       "651  6.353871 4.017780 5.602713 4.489083 3.023346\n",
       "495  5.606721 5.507785 5.874736 4.482352 3.114476"
      ]
     },
     "metadata": {},
     "output_type": "display_data"
    }
   ],
   "source": [
    "supercell_mat[1:5,1:5]"
   ]
  },
  {
   "cell_type": "code",
   "execution_count": null,
   "metadata": {
    "collapsed": true
   },
   "outputs": [],
   "source": []
  }
 ],
 "metadata": {
  "anaconda-cloud": {},
  "kernelspec": {
   "display_name": "R",
   "language": "R",
   "name": "ir"
  },
  "language_info": {
   "codemirror_mode": "r",
   "file_extension": ".r",
   "mimetype": "text/x-r-source",
   "name": "R",
   "pygments_lexer": "r",
   "version": "3.4.4"
  }
 },
 "nbformat": 4,
 "nbformat_minor": 0
}
